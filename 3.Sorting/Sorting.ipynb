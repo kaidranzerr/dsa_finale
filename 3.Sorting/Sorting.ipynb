{
 "cells": [
  {
   "cell_type": "code",
   "execution_count": 1,
   "id": "c70ca662",
   "metadata": {},
   "outputs": [
    {
     "data": {
      "text/plain": [
       "[-5, -3, -3, 1, 2, 2, 2, 3, 7]"
      ]
     },
     "execution_count": 1,
     "metadata": {},
     "output_type": "execute_result"
    }
   ],
   "source": [
    "# bubble sort\n",
    "# Time --> O(n**2)\n",
    "# Space --> O(1)\n",
    "\n",
    "A = [-5 , 3 , 2 , 1 , -3 , -3 , 7 , 2 , 2]\n",
    "def bubble_srot(arr):\n",
    "    n = len(arr)\n",
    "    flag = True \n",
    "    while flag:\n",
    "        flag = False # we assume for now that we are done and if we do any swaps then we will change it back to true\n",
    "        for i in range(1 , n):\n",
    "            if arr[i-1] > arr[i]:\n",
    "                flag = True \n",
    "                arr[i-1] , arr[i] = arr[i] , arr[i-1]\n",
    "bubble_srot(A)\n",
    "A"
   ]
  },
  {
   "cell_type": "code",
   "execution_count": 4,
   "id": "ab89b538",
   "metadata": {},
   "outputs": [
    {
     "data": {
      "text/plain": [
       "[-5, -3, -3, 1, 2, 2, 2, 3, 7]"
      ]
     },
     "execution_count": 4,
     "metadata": {},
     "output_type": "execute_result"
    }
   ],
   "source": [
    "B = [-5 , 3 , 2 , 1 , -3 , -3 , 7 , 2 , 2]\n",
    "\n",
    "# insertion sort\n",
    "# Time --> O(n**2)\n",
    "# Space --> O(1)\n",
    "\n",
    "def insertion_sort(arr):\n",
    "    n = len(arr)\n",
    "    for i in range(1 , n):\n",
    "        for j in range(i , 0 , -1): #start at i to 0 --> exclusive and we are decrementing\n",
    "            if arr[j-1] > arr[j]:\n",
    "                arr[j-1] , arr[j] = arr[j] , arr[j-1]\n",
    "            else:\n",
    "                break\n",
    "\n",
    "insertion_sort(B)\n",
    "B"
   ]
  },
  {
   "cell_type": "code",
   "execution_count": null,
   "id": "3f78a59a",
   "metadata": {},
   "outputs": [],
   "source": []
  }
 ],
 "metadata": {
  "kernelspec": {
   "display_name": "base",
   "language": "python",
   "name": "python3"
  },
  "language_info": {
   "codemirror_mode": {
    "name": "ipython",
    "version": 3
   },
   "file_extension": ".py",
   "mimetype": "text/x-python",
   "name": "python",
   "nbconvert_exporter": "python",
   "pygments_lexer": "ipython3",
   "version": "3.12.7"
  }
 },
 "nbformat": 4,
 "nbformat_minor": 5
}
