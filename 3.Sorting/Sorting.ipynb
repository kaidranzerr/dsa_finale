{
 "cells": [
  {
   "cell_type": "code",
   "execution_count": 1,
   "id": "c70ca662",
   "metadata": {},
   "outputs": [
    {
     "data": {
      "text/plain": [
       "[-5, -3, -3, 1, 2, 2, 2, 3, 7]"
      ]
     },
     "execution_count": 1,
     "metadata": {},
     "output_type": "execute_result"
    }
   ],
   "source": [
    "# bubble sort\n",
    "# Time --> O(n**2)\n",
    "# Space --> O(1)\n",
    "\n",
    "A = [-5 , 3 , 2 , 1 , -3 , -3 , 7 , 2 , 2]\n",
    "def bubble_srot(arr):\n",
    "    n = len(arr)\n",
    "    flag = True \n",
    "    while flag:\n",
    "        flag = False # we assume for now that we are done and if we do any swaps then we will change it back to true\n",
    "        for i in range(1 , n):\n",
    "            if arr[i-1] > arr[i]:\n",
    "                flag = True \n",
    "                arr[i-1] , arr[i] = arr[i] , arr[i-1]\n",
    "bubble_srot(A)\n",
    "A"
   ]
  },
  {
   "cell_type": "code",
   "execution_count": 4,
   "id": "ab89b538",
   "metadata": {},
   "outputs": [
    {
     "data": {
      "text/plain": [
       "[-5, -3, -3, 1, 2, 2, 2, 3, 7]"
      ]
     },
     "execution_count": 4,
     "metadata": {},
     "output_type": "execute_result"
    }
   ],
   "source": [
    "B = [-5 , 3 , 2 , 1 , -3 , -3 , 7 , 2 , 2]\n",
    "\n",
    "# insertion sort\n",
    "# Time --> O(n**2)\n",
    "# Space --> O(1)\n",
    "\n",
    "def insertion_sort(arr):\n",
    "    n = len(arr)\n",
    "    for i in range(1 , n):\n",
    "        for j in range(i , 0 , -1): #start at i to 0 --> exclusive and we are decrementing\n",
    "            if arr[j-1] > arr[j]:\n",
    "                arr[j-1] , arr[j] = arr[j] , arr[j-1]\n",
    "            else:\n",
    "                break\n",
    "\n",
    "insertion_sort(B)\n",
    "B"
   ]
  },
  {
   "cell_type": "code",
   "execution_count": 5,
   "id": "3f78a59a",
   "metadata": {},
   "outputs": [
    {
     "data": {
      "text/plain": [
       "[-5, -3, -3, 1, 2, 2, 2, 3, 7]"
      ]
     },
     "execution_count": 5,
     "metadata": {},
     "output_type": "execute_result"
    }
   ],
   "source": [
    "# selection sort\n",
    "# Time --> O(n**2)\n",
    "# Space --> O(1)\n",
    "C = [-5 , 3 , 2 , 1 , -3 , -3 , 7 , 2 , 2]\n",
    "def selection_sort(arr):\n",
    "    n = len(arr)\n",
    "    for i in range(n): # 0 --> n-1\n",
    "        min_idx = i \n",
    "        for j in range(i+1 , n):\n",
    "            if arr[j] < arr[min_idx]:\n",
    "                min_idx = j \n",
    "        arr[i] , arr[min_idx] = arr[min_idx] , arr[i] \n",
    "selection_sort(C)\n",
    "C"
   ]
  },
  {
   "cell_type": "code",
   "execution_count": 9,
   "id": "14461b5f",
   "metadata": {},
   "outputs": [
    {
     "data": {
      "text/plain": [
       "[-5, -3, -3, 1, 2, 2, 2, 3, 7]"
      ]
     },
     "execution_count": 9,
     "metadata": {},
     "output_type": "execute_result"
    }
   ],
   "source": [
    "# merge sort\n",
    "# Time --> O(n log n )\n",
    "# space --> O(n) --> can be logn but it will be very hard to write\n",
    "\n",
    "D = [-5 , 3 , 2 , 1 , -3 , -3 , 7 , 2 , 2]\n",
    "def merge_sort(arr):\n",
    "    n = len(arr)\n",
    "    if n == 1:\n",
    "        return arr \n",
    "    m = len(arr) // 2\n",
    "    L = arr[:m]\n",
    "    R = arr[m:]\n",
    "\n",
    "    L = merge_sort(L)\n",
    "    R = merge_sort(R)\n",
    "    l , r = 0,0\n",
    "    L_len = len(L)\n",
    "    R_len = len(R)\n",
    "\n",
    "    sorted_arr = [0] * n \n",
    "    i = 0\n",
    "    while l < L_len and r < R_len:\n",
    "        if L[l] < R[r]:\n",
    "            sorted_arr[i] = L[l]\n",
    "            l += 1\n",
    "        else:\n",
    "            sorted_arr[i] = R[r]\n",
    "            r += 1 \n",
    "        i += 1\n",
    "    while l < L_len:\n",
    "        sorted_arr[i] = L[l]\n",
    "        l += 1\n",
    "        i += 1\n",
    "    while r < R_len:\n",
    "        sorted_arr[i] = R[r]\n",
    "        r += 1\n",
    "        i += 1\n",
    "    return sorted_arr\n",
    "merge_sort(D)\n"
   ]
  },
  {
   "cell_type": "code",
   "execution_count": 2,
   "id": "b2a572ea",
   "metadata": {},
   "outputs": [
    {
     "data": {
      "text/plain": [
       "[-5, -3, -3, 1, 2, 2, 2, 3, 7]"
      ]
     },
     "execution_count": 2,
     "metadata": {},
     "output_type": "execute_result"
    }
   ],
   "source": [
    "# Quick sort\n",
    "# time --> O(NlogN) worst --> O(N**2)\n",
    "# space --> O(N)\n",
    "\n",
    "E = [-5 , 3 , 2 , 1 , -3 , -3 , 7 , 2 , 2]\n",
    "def quick_sort(arr):\n",
    "    if len(arr) <= 1:\n",
    "        return arr \n",
    "\n",
    "    p = arr[-1]\n",
    "    L = [x for x in arr[:-1] if x <= p]\n",
    "    R = [x for x in arr[:-1] if x > p]\n",
    "\n",
    "    L = quick_sort(L)\n",
    "    R = quick_sort(R)\n",
    "\n",
    "    return L +[p] + R \n",
    "quick_sort(E)\n",
    "\n"
   ]
  },
  {
   "cell_type": "code",
   "execution_count": 4,
   "id": "cbcea54e",
   "metadata": {},
   "outputs": [
    {
     "data": {
      "text/plain": [
       "[1, 2, 2, 2, 3, 3, 3, 5, 7]"
      ]
     },
     "execution_count": 4,
     "metadata": {},
     "output_type": "execute_result"
    }
   ],
   "source": [
    "# counting sort\n",
    "# time --> O(N +K) where k is the range of the data\n",
    "# space --> O(K)\n",
    "\n",
    "F =  [5 , 3 , 2 , 1 , 3 , 3 , 7 , 2 , 2]\n",
    "def counting_sort(arr):\n",
    "    n = len(arr)\n",
    "    maxx = max(arr)\n",
    "    counts = [0] * (maxx + 1)\n",
    "\n",
    "    for x in arr:\n",
    "        counts[x] += 1 \n",
    "    i = 0\n",
    "    for c in range(maxx + 1):\n",
    "        while counts[c] > 0:\n",
    "            arr[i] = c \n",
    "            i+= 1\n",
    "            counts[c] -= 1 \n",
    "counting_sort(F) \n",
    "F"
   ]
  },
  {
   "cell_type": "code",
   "execution_count": 6,
   "id": "28917fb6",
   "metadata": {},
   "outputs": [
    {
     "data": {
      "text/plain": [
       "[-5, -3, -3, 1, 2, 2, 2, 3, 7]"
      ]
     },
     "execution_count": 6,
     "metadata": {},
     "output_type": "execute_result"
    }
   ],
   "source": [
    "# Tim sort \n",
    "# time --> O(NlogN)\n",
    "G = [-5 , 3 , 2 , 1 , -3 , -3 , 7 , 2 , 2]\n",
    "# in place (constant space)\n",
    "G.sort()\n",
    "G"
   ]
  },
  {
   "cell_type": "code",
   "execution_count": 8,
   "id": "e71787c7",
   "metadata": {},
   "outputs": [
    {
     "data": {
      "text/plain": [
       "[-5, -3, -3, 1, 2, 2, 2, 3, 7]"
      ]
     },
     "execution_count": 8,
     "metadata": {},
     "output_type": "execute_result"
    }
   ],
   "source": [
    "# if not in-place but a new sorted arr\n",
    "H = [-5 , 3 , 2 , 1 , -3 , -3 , 7 , 2 , 2]\n",
    "sorted_H = sorted(H)\n",
    "sorted_H"
   ]
  },
  {
   "cell_type": "code",
   "execution_count": null,
   "id": "3185744e",
   "metadata": {},
   "outputs": [
    {
     "data": {
      "text/plain": [
       "[(-5, 3), (-3, -3), (2, 1), (2, 2), (7, 2)]"
      ]
     },
     "execution_count": 11,
     "metadata": {},
     "output_type": "execute_result"
    }
   ],
   "source": [
    "# sorted array of tuples\n",
    "I = [(-5,3) , (2,1) , (-3 , -3) , (7,2) , (2,2)]\n",
    "sorted_I = sorted(I , key=lambda t: t[0]) # sorted by tuple's first position\n",
    "sorted_I"
   ]
  },
  {
   "cell_type": "code",
   "execution_count": null,
   "id": "d3a8f54b",
   "metadata": {},
   "outputs": [],
   "source": []
  }
 ],
 "metadata": {
  "kernelspec": {
   "display_name": "base",
   "language": "python",
   "name": "python3"
  },
  "language_info": {
   "codemirror_mode": {
    "name": "ipython",
    "version": 3
   },
   "file_extension": ".py",
   "mimetype": "text/x-python",
   "name": "python",
   "nbconvert_exporter": "python",
   "pygments_lexer": "ipython3",
   "version": "3.12.7"
  }
 },
 "nbformat": 4,
 "nbformat_minor": 5
}
