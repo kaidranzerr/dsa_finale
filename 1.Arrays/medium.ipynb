{
 "cells": [
  {
   "cell_type": "code",
   "execution_count": null,
   "id": "91d11275",
   "metadata": {},
   "outputs": [],
   "source": [
    "def len_of_longest_subs(s):\n",
    "    last_seen = {} # char --> last seen idx\n",
    "    left = 0 \n",
    "    max_len = 0\n",
    "\n",
    "    # expand window\n",
    "    for right , ch in enumerate(s):\n",
    "        # if we saw ch inside this window move left to one past prev idx\n",
    "        if ch in last_seen and last_seen[ch] >= left:\n",
    "            left = last_seen[ch] + 1 \n",
    "\n",
    "        # record/update last idx of current_char\n",
    "        last_seen[ch] = right \n",
    "        # update best length seen so far\n",
    "        curr_len = right - left + 1\n",
    "        if curr_len > max_len:\n",
    "            max_len = curr_len\n",
    "    return max_len"
   ]
  },
  {
   "cell_type": "code",
   "execution_count": null,
   "id": "51db3b4d",
   "metadata": {},
   "outputs": [],
   "source": [
    "# longest repeating character replacement\n",
    "from collections import defaultdict\n",
    "def character_replacement(s: str, k: int) -> int:\n",
    "    freq_map = defaultdict(int)\n",
    "    left = 0\n",
    "    max_freq = 0\n",
    "    max_length = 0\n",
    "\n",
    "    for right in range(len(s)):\n",
    "        freq_map[s[right]] += 1\n",
    "        max_freq = max(max_freq , freq_map[s[right]])\n",
    "        window_length = right - left + 1\n",
    "        changes_needed = window_length - max_freq\n",
    "        if changes_needed > k:\n",
    "            freq_map[s[left]] -= 1\n",
    "            left += 1\n",
    "        window_length = right - left + 1\n",
    "        max_length = max(max_length , window_length)\n",
    "    return max_length"
   ]
  },
  {
   "cell_type": "code",
   "execution_count": null,
   "id": "61bfab4d",
   "metadata": {},
   "outputs": [],
   "source": [
    "def min_sub_array_len(target: int, nums: list[int]) -> int:\n",
    "    left = 0\n",
    "    curr_sum = 0\n",
    "    min_length = float('inf')\n",
    "    for right in range(len(nums)):\n",
    "        curr_sum += nums[right]\n",
    "        while curr_sum >= target:\n",
    "            # update min length found so far\n",
    "            min_length = min(min_length , right - left + 1)\n",
    "            left += 1\n",
    "    return 0 if min_length == float('inf') else min_length"
   ]
  },
  {
   "cell_type": "code",
   "execution_count": null,
   "id": "ee8961b5",
   "metadata": {},
   "outputs": [],
   "source": [
    "# subarray sum equals k \n",
    "from collections import defaultdict\n",
    "def subarraySum(nums , k):\n",
    "    prefix_count = defaultdict(int)\n",
    "    prefix_count[0] = 1 # empty prefix sum seen once\n",
    "    curr = 0\n",
    "    res = 0\n",
    "\n",
    "    for x in nums:\n",
    "        curr += x\n",
    "        res += prefix_count[curr-k]\n",
    "        prefix_count[curr] += 1\n",
    "    return res "
   ]
  },
  {
   "cell_type": "code",
   "execution_count": null,
   "id": "4eb75cd8",
   "metadata": {},
   "outputs": [],
   "source": []
  }
 ],
 "metadata": {
  "language_info": {
   "name": "python"
  }
 },
 "nbformat": 4,
 "nbformat_minor": 5
}
