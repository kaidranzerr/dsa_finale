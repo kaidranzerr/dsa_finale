{
 "cells": [
  {
   "cell_type": "code",
   "execution_count": null,
   "id": "df05b3b4",
   "metadata": {},
   "outputs": [],
   "source": [
    "# sliding window pattern\n",
    "def sliding_window(arr , k):\n",
    "    n = len(arr)\n",
    "    wind_sum = sum(arr[:k])\n",
    "    max_sum = wind_sum\n",
    "    \n",
    "    for i in range(k , n):\n",
    "        wind_sum += arr[i] - arr[i-k]\n",
    "        max_sum = wind_sum\n",
    "    return max_sum"
   ]
  },
  {
   "cell_type": "code",
   "execution_count": null,
   "id": "9a37f750",
   "metadata": {},
   "outputs": [],
   "source": [
    "def sliding_window_var(arr , target):\n",
    "    n = len(arr)\n",
    "    left = 0\n",
    "    curr_sum = 0\n",
    "    min_len = float(\"inf\")\n",
    "    for right in range(n):\n",
    "        curr_sum += arr[right]\n",
    "        while curr_sum >= target:\n",
    "            min_len = min(min_len  , right - left + 1)\n",
    "            curr_sum -= arr[left]\n",
    "            left += 1\n",
    "    return min_len if min_len != float('inf') else 0"
   ]
  },
  {
   "cell_type": "code",
   "execution_count": null,
   "id": "43820621",
   "metadata": {},
   "outputs": [],
   "source": [
    "def two_ptr(arr , target):\n",
    "    arr.sort()\n",
    "    left , right = 0 , len(arr) - 1\n",
    "\n",
    "    while left < right:\n",
    "        sum = arr[left] + arr[right]\n",
    "        if target == sum:\n",
    "            return (arr[left] , arr[right])\n",
    "        if sum < target :\n",
    "            left += 1\n",
    "        else:\n",
    "            right -= 1\n"
   ]
  },
  {
   "cell_type": "code",
   "execution_count": null,
   "id": "34012daf",
   "metadata": {},
   "outputs": [],
   "source": [
    "# fast and slow\n",
    "def remove_duplicates(arr):\n",
    "    if not arr:\n",
    "        return 0\n",
    "    slow = 0\n",
    "    for fast in range(1 , len(arr)):\n",
    "        if arr[fast] != arr[slow]:\n",
    "            slow += 1\n",
    "            arr[slow] = arr[fast]\n",
    "    return slow + 1"
   ]
  },
  {
   "cell_type": "code",
   "execution_count": null,
   "id": "cd2aa521",
   "metadata": {},
   "outputs": [],
   "source": [
    "def prefix_sum(arr):\n",
    "    n = len(arr)\n",
    "    prefix = [0] * n \n",
    "    prefix[0] = arr[0]\n",
    "\n",
    "    for i in range(1,n):\n",
    "        prefix[i] = prefix[i-1] + arr[i]\n",
    "    return prefix "
   ]
  },
  {
   "cell_type": "code",
   "execution_count": null,
   "id": "6a3a4bfb",
   "metadata": {},
   "outputs": [],
   "source": [
    "def two_sum(nums , target):\n",
    "    l , r = 0 , len(nums)-1 \n",
    "    while l < r:\n",
    "        s = nums[l] + nums[r]\n",
    "        if s == target:\n",
    "            return (l,r)\n",
    "        elif s < target:\n",
    "            l += 1\n",
    "        else:\n",
    "            r -= 1"
   ]
  },
  {
   "cell_type": "code",
   "execution_count": null,
   "id": "48554115",
   "metadata": {},
   "outputs": [],
   "source": [
    "def remove_duplicates(nums):\n",
    "    if not nums:\n",
    "        return 0\n",
    "    slow = 0\n",
    "    for fast in range(1,n):\n",
    "        if nums[fast] != nums[slow]:\n",
    "            slow += 1\n",
    "            nums[slow] = nums[fast]\n",
    "    return slow + 1"
   ]
  },
  {
   "cell_type": "code",
   "execution_count": null,
   "id": "5666702d",
   "metadata": {},
   "outputs": [],
   "source": [
    "# move 0s \n",
    "def move_zeros(nums):\n",
    "    slow = 0\n",
    "    for fast in range(len(nums)):\n",
    "        if nums[fast] != 0:\n",
    "            nums[slow] = nums[fast]\n",
    "            slow += 1\n",
    "    # fill the rest with 0s\n",
    "    for i in range(slow , len(nums)):\n",
    "        nums[i] = 0"
   ]
  },
  {
   "cell_type": "code",
   "execution_count": null,
   "id": "e6b61a44",
   "metadata": {},
   "outputs": [],
   "source": [
    "def max_profit(prices):\n",
    "    if not prices:\n",
    "        return 0\n",
    "    min_price = float('inf')\n",
    "    max_profit = 0\n",
    "    for p in prices:\n",
    "        if p < min_price:\n",
    "            min_price = p \n",
    "        else:\n",
    "            max_profit = max(max_profit , p - min_price)\n",
    "    return max_profit"
   ]
  },
  {
   "cell_type": "code",
   "execution_count": null,
   "id": "8169ef81",
   "metadata": {},
   "outputs": [],
   "source": [
    "def max_subaaray(nums):\n",
    "    if not nums:\n",
    "        return 0 \n",
    "    curr = global_max = nums[0]\n",
    "    for x in nums[1:]:\n",
    "        curr = max(x , curr+x)\n",
    "        global_max = max(global_max , curr)\n",
    "    return global_max"
   ]
  },
  {
   "cell_type": "code",
   "execution_count": null,
   "id": "09c8e49f",
   "metadata": {},
   "outputs": [],
   "source": [
    "# merge sorted arrays in place\n",
    "def merge_s(nums1 , m , nums2 , n):\n",
    "    i , j, k = m-1 , n-1 , m+n-1 \n",
    "    while i >= 0 and j >=0:\n",
    "        if nums1[i] > nums2[j]:\n",
    "            nums1[k] = nums1[i] ; i -=1\n",
    "        else:\n",
    "            nums1[k] = nums2[j] ; j -= 1\n",
    "        k -=1\n",
    "    while j >= 0:\n",
    "        nums1[k] = nums2[j] ; j -= 1; k-= 1\n",
    "        "
   ]
  },
  {
   "cell_type": "code",
   "execution_count": null,
   "id": "714298df",
   "metadata": {},
   "outputs": [],
   "source": []
  }
 ],
 "metadata": {
  "language_info": {
   "name": "python"
  }
 },
 "nbformat": 4,
 "nbformat_minor": 5
}
