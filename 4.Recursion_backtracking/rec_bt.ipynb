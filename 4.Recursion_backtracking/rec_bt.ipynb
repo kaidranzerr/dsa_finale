{
 "cells": [
  {
   "cell_type": "code",
   "execution_count": 1,
   "id": "c15e2773",
   "metadata": {},
   "outputs": [],
   "source": [
    "# recursion is when a function calls itself to solve smaller version of the same problem\n",
    "# base case --> stopping condition\n",
    "# recursive case --> the part where function calls itself with a smaller simpler input\n",
    "\n",
    "\n",
    "# stack and call stack \n",
    "# When a function calls itself, Python keeps track of each call in stack memory.\n",
    "# Think of stack memory like a pile of plates: the last plate you put is the first you take out (LIFO: Last In, First Out).\n",
    "# Each recursive call waits until the inner call returns.\n"
   ]
  },
  {
   "cell_type": "code",
   "execution_count": 2,
   "id": "b2ec41ea",
   "metadata": {},
   "outputs": [],
   "source": [
    "# factorial --> n*(n-1)*...\n",
    "def factorial(n):\n",
    "    # base case \n",
    "    if n == 0:\n",
    "        return 1\n",
    "    return n * factorial(n-1) "
   ]
  },
  {
   "cell_type": "code",
   "execution_count": 4,
   "id": "33ad3a0d",
   "metadata": {},
   "outputs": [
    {
     "name": "stdout",
     "output_type": "stream",
     "text": [
      "15\n"
     ]
    }
   ],
   "source": [
    "def sum_n(n):\n",
    "    if n ==0 :\n",
    "        return 0\n",
    "    return n + sum_n(n-1)\n",
    "print(sum_n(5))"
   ]
  },
  {
   "cell_type": "code",
   "execution_count": 5,
   "id": "11d6dcba",
   "metadata": {},
   "outputs": [],
   "source": [
    "def fib(n):\n",
    "    if n == 0:\n",
    "        return 1 \n",
    "    if n == 1:\n",
    "        return 1\n",
    "    return fib(n-1) + fib(n-2)\n"
   ]
  },
  {
   "cell_type": "code",
   "execution_count": 6,
   "id": "1e9d44ed",
   "metadata": {},
   "outputs": [
    {
     "data": {
      "text/plain": [
       "5"
      ]
     },
     "execution_count": 6,
     "metadata": {},
     "output_type": "execute_result"
    }
   ],
   "source": [
    "def count_dig(n):\n",
    "    if n == 0:\n",
    "        return 0\n",
    "    return 1 + count_dig(n//10)\n",
    "count_dig(12345)"
   ]
  },
  {
   "cell_type": "code",
   "execution_count": 7,
   "id": "b135c6b0",
   "metadata": {},
   "outputs": [],
   "source": [
    "def rever_num(n ,rev=0):\n",
    "    if n == 0:\n",
    "        return rev \n",
    "    return rever_num(n // 10 , rev * 10 + n % 10)"
   ]
  },
  {
   "cell_type": "code",
   "execution_count": null,
   "id": "29d2596a",
   "metadata": {},
   "outputs": [],
   "source": []
  }
 ],
 "metadata": {
  "kernelspec": {
   "display_name": "Python 3",
   "language": "python",
   "name": "python3"
  },
  "language_info": {
   "codemirror_mode": {
    "name": "ipython",
    "version": 3
   },
   "file_extension": ".py",
   "mimetype": "text/x-python",
   "name": "python",
   "nbconvert_exporter": "python",
   "pygments_lexer": "ipython3",
   "version": "3.12.6"
  }
 },
 "nbformat": 4,
 "nbformat_minor": 5
}
