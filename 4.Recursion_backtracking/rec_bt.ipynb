{
 "cells": [
  {
   "cell_type": "code",
   "execution_count": 1,
   "id": "c15e2773",
   "metadata": {},
   "outputs": [],
   "source": [
    "# recursion is when a function calls itself to solve smaller version of the same problem\n",
    "# base case --> stopping condition\n",
    "# recursive case --> the part where function calls itself with a smaller simpler input\n",
    "\n",
    "\n",
    "# stack and call stack \n",
    "# When a function calls itself, Python keeps track of each call in stack memory.\n",
    "# Think of stack memory like a pile of plates: the last plate you put is the first you take out (LIFO: Last In, First Out).\n",
    "# Each recursive call waits until the inner call returns.\n"
   ]
  },
  {
   "cell_type": "code",
   "execution_count": 2,
   "id": "b2ec41ea",
   "metadata": {},
   "outputs": [],
   "source": [
    "# factorial --> n*(n-1)*...\n",
    "def factorial(n):\n",
    "    # base case \n",
    "    if n == 0:\n",
    "        return 1\n",
    "    return n * factorial(n-1) "
   ]
  },
  {
   "cell_type": "code",
   "execution_count": 4,
   "id": "33ad3a0d",
   "metadata": {},
   "outputs": [
    {
     "name": "stdout",
     "output_type": "stream",
     "text": [
      "15\n"
     ]
    }
   ],
   "source": [
    "def sum_n(n):\n",
    "    if n ==0 :\n",
    "        return 0\n",
    "    return n + sum_n(n-1)\n",
    "print(sum_n(5))"
   ]
  },
  {
   "cell_type": "code",
   "execution_count": 5,
   "id": "11d6dcba",
   "metadata": {},
   "outputs": [],
   "source": [
    "def fib(n):\n",
    "    if n == 0:\n",
    "        return 1 \n",
    "    if n == 1:\n",
    "        return 1\n",
    "    return fib(n-1) + fib(n-2)\n"
   ]
  },
  {
   "cell_type": "code",
   "execution_count": 6,
   "id": "1e9d44ed",
   "metadata": {},
   "outputs": [
    {
     "data": {
      "text/plain": [
       "5"
      ]
     },
     "execution_count": 6,
     "metadata": {},
     "output_type": "execute_result"
    }
   ],
   "source": [
    "def count_dig(n):\n",
    "    if n == 0:\n",
    "        return 0\n",
    "    return 1 + count_dig(n//10)\n",
    "count_dig(12345)"
   ]
  },
  {
   "cell_type": "code",
   "execution_count": 7,
   "id": "b135c6b0",
   "metadata": {},
   "outputs": [],
   "source": [
    "def rever_num(n ,rev=0):\n",
    "    if n == 0:\n",
    "        return rev \n",
    "    return rever_num(n // 10 , rev * 10 + n % 10)"
   ]
  },
  {
   "cell_type": "code",
   "execution_count": 1,
   "id": "29d2596a",
   "metadata": {},
   "outputs": [],
   "source": [
    "# recursion with array or list\n",
    "def is_sorted(arr , n):\n",
    "    if n==1 or n == 0:\n",
    "        return True \n",
    "    if arr[n-2] > arr[n-1]:\n",
    "        return False \n",
    "    is_sorted(arr , n-1)\n",
    "    "
   ]
  },
  {
   "cell_type": "code",
   "execution_count": 2,
   "id": "7067af90",
   "metadata": {},
   "outputs": [],
   "source": [
    "def count_occurences(arr , n , x):\n",
    "    if n==0:\n",
    "        return 0\n",
    "    return (1 if arr[n-1] == x else 0) + count_occurences(arr , n-1 , x)"
   ]
  },
  {
   "cell_type": "code",
   "execution_count": 3,
   "id": "d751ab1b",
   "metadata": {},
   "outputs": [],
   "source": [
    "def reverse_strings(s):\n",
    "    if len(s) <= 1:\n",
    "        return s \n",
    "    return reverse_strings(s[1:]) + s[0]"
   ]
  },
  {
   "cell_type": "code",
   "execution_count": 4,
   "id": "cb84edba",
   "metadata": {},
   "outputs": [],
   "source": [
    "def isPalindrome(s):\n",
    "    if len(s) <= 1:\n",
    "        return True \n",
    "    return isPalindrome(s[1:-1])\n",
    "    "
   ]
  },
  {
   "cell_type": "code",
   "execution_count": 5,
   "id": "063a32da",
   "metadata": {},
   "outputs": [],
   "source": [
    "def power(x , n):\n",
    "    if n == 0:\n",
    "        return 1 \n",
    "    return x * power(x , n-1)"
   ]
  },
  {
   "cell_type": "code",
   "execution_count": 6,
   "id": "47249a49",
   "metadata": {},
   "outputs": [],
   "source": [
    "# backtracking --> recursion + exploring choices + undoing choices\n",
    "# Pruning: Cutting off a branch early because it cannot lead to a valid final solution.\n",
    "\n",
    "# Search tree / recursion tree: All recursive calls arranged as a tree.\n",
    "\n",
    "# Branching factor: Number of choices at each step.\n",
    "\n",
    "# If current state is a complete solution, record it and return.\n",
    "\n",
    "# For each candidate choice at this step:\n",
    "\n",
    "# If choice is valid (fits constraints)\n",
    "\n",
    "# Choose it (update state)\n",
    "\n",
    "# Explore recursively\n",
    "\n",
    "# Unchoose it (rollback state)\n",
    "\n",
    "# End.\n",
    "\n",
    "# Always restore the state after recursion (undo)."
   ]
  },
  {
   "cell_type": "code",
   "execution_count": 7,
   "id": "9190cb6c",
   "metadata": {},
   "outputs": [
    {
     "name": "stdout",
     "output_type": "stream",
     "text": [
      "['000', '001', '010', '011', '100', '101', '110', '111']\n"
     ]
    }
   ],
   "source": [
    "def generate_bin(n):\n",
    "    results = []\n",
    "    def backtrack(path):\n",
    "        # base case\n",
    "        if len(path) == n:\n",
    "            results.append(''.join(path))\n",
    "            return \n",
    "        # choose 0\n",
    "        path.append('0')\n",
    "        backtrack(path)\n",
    "        path.pop() # unchoose\n",
    "        # choose 1\n",
    "        path.append('1')\n",
    "        backtrack(path)\n",
    "        path.pop()\n",
    "    backtrack([])\n",
    "    return results\n",
    "\n",
    "print(generate_bin(3))  # ['000','001','010','011','100','101','110','111']\n"
   ]
  },
  {
   "cell_type": "code",
   "execution_count": 9,
   "id": "39b03e7b",
   "metadata": {},
   "outputs": [
    {
     "name": "stdout",
     "output_type": "stream",
     "text": [
      "abc\n",
      "ab\n",
      "ac\n",
      "a\n",
      "bc\n",
      "b\n",
      "c\n",
      "\n"
     ]
    }
   ],
   "source": [
    "# subsequence of string\n",
    "def subseq(processed , unprocessed):\n",
    "    if unprocessed == \"\":\n",
    "        print(processed)\n",
    "        return\n",
    "    ch = unprocessed[0]\n",
    "    # include the character from processed\n",
    "    subseq(processed + ch , unprocessed[1:])\n",
    "    # exclude the char\n",
    "    subseq(processed , unprocessed[1:])\n",
    "subseq(\"\", \"abc\")"
   ]
  },
  {
   "cell_type": "code",
   "execution_count": 10,
   "id": "a4cc4a49",
   "metadata": {},
   "outputs": [
    {
     "name": "stdout",
     "output_type": "stream",
     "text": [
      "cba\n",
      "bca\n",
      "bac\n",
      "cab\n",
      "acb\n",
      "abc\n"
     ]
    }
   ],
   "source": [
    "def perm(processed , unprocessed):\n",
    "    if unprocessed == \"\":\n",
    "        print(processed)\n",
    "        return \n",
    "    ch = unprocessed[0]\n",
    "    for i in range(len(processed) + 1):\n",
    "        new_processed = processed[:i] + ch + processed[i:]\n",
    "        perm(new_processed , unprocessed[1:])\n",
    "perm(\"\", \"abc\")"
   ]
  },
  {
   "cell_type": "code",
   "execution_count": 11,
   "id": "b0b6c364",
   "metadata": {},
   "outputs": [
    {
     "name": "stdout",
     "output_type": "stream",
     "text": [
      "6\n",
      "3\n",
      "4\n",
      "1\n",
      "5\n",
      "2\n",
      "3\n",
      "0\n"
     ]
    }
   ],
   "source": [
    "def subset_sums(processed_sum , unprocessed):\n",
    "    if len(unprocessed) == 0:\n",
    "        print(processed_sum)\n",
    "        return \n",
    "    # include the first element\n",
    "    subset_sums(processed_sum + unprocessed[0] , unprocessed[1:])\n",
    "    # exclude the first element\n",
    "    subset_sums(processed_sum , unprocessed[1:])\n",
    "subset_sums(0, [1,2,3])"
   ]
  },
  {
   "cell_type": "code",
   "execution_count": 14,
   "id": "31f40d1a",
   "metadata": {},
   "outputs": [
    {
     "name": "stdout",
     "output_type": "stream",
     "text": [
      "abc\n",
      "ab\n",
      "ab99\n",
      "ac\n",
      "a\n",
      "a99\n",
      "a98c\n",
      "a98\n",
      "a9899\n",
      "bc\n",
      "b\n",
      "b99\n",
      "c\n",
      "\n",
      "99\n",
      "98c\n",
      "98\n",
      "9899\n",
      "97bc\n",
      "97b\n",
      "97b99\n",
      "97c\n",
      "97\n",
      "9799\n",
      "9798c\n",
      "9798\n",
      "979899\n"
     ]
    }
   ],
   "source": [
    "def sub_ascii(processed , unrpocessed):\n",
    "    if unrpocessed == \"\":\n",
    "        print(processed)\n",
    "        return \n",
    "    ch = unrpocessed[0]\n",
    "    # include char\n",
    "    sub_ascii(processed + ch , unrpocessed[1:])\n",
    "    # exclude char\n",
    "    sub_ascii(processed, unrpocessed[1:])\n",
    "    # including ascii\n",
    "    sub_ascii(processed + str(ord(ch)) , unrpocessed[1:])\n",
    "sub_ascii(\"\", \"abc\")"
   ]
  },
  {
   "cell_type": "code",
   "execution_count": 17,
   "id": "05e9aa4e",
   "metadata": {},
   "outputs": [
    {
     "name": "stdout",
     "output_type": "stream",
     "text": [
      "16\n"
     ]
    }
   ],
   "source": [
    "def count_subseq(processed , unprocessed):\n",
    "    if unprocessed == \"\":\n",
    "        return 1\n",
    "    ch = unprocessed[0]\n",
    "    # include\n",
    "    left = count_subseq(processed + ch , unprocessed[1:])\n",
    "    right = count_subseq(processed , unprocessed[1:])\n",
    "    return left + right \n",
    "print(count_subseq(\"\", \"abcd\"))"
   ]
  },
  {
   "cell_type": "code",
   "execution_count": 18,
   "id": "5c40f44a",
   "metadata": {},
   "outputs": [],
   "source": [
    "# word search --> each cell used once at max\n",
    "def word_search(board , word):\n",
    "    # edge check\n",
    "    if not board or not board[0]:\n",
    "        return False \n",
    "    rows = len(board)\n",
    "    cols = len(board[0])\n",
    "    directions = [(1,0),(-1,0),(0,1),(0,-1)]\n",
    "\n",
    "    def dfs(r,c,processed , unprocessed , visited):\n",
    "        if board[r][c] != unprocessed[0]:\n",
    "            return False\n",
    "        processed = processed + board[r][c]\n",
    "        if len(unprocessed) == 1:\n",
    "            return True \n",
    "        visited.add((r,c))\n",
    "        for dr , dc in directions:\n",
    "            nr , nc = r+dr , c+dc \n",
    "            if 0 <= nr< rows and 0 <= nc < cols and (nr , nc ) not in visited:\n",
    "                if board[nr][nc] == unprocessed[1]:\n",
    "                    if dfs(nr , nc,processed , unprocessed[1:] , visited):\n",
    "                        return True \n",
    "        visited.remove((r,c))\n",
    "        return False \n",
    "    for i in range(rows):\n",
    "        for j in range(cols):\n",
    "            if board[i][j] == word[0]:\n",
    "                if dfs(i,j , \"\" , word , set()):\n",
    "                    return True \n",
    "    return False"
   ]
  },
  {
   "cell_type": "code",
   "execution_count": 21,
   "id": "7d2dd3be",
   "metadata": {},
   "outputs": [],
   "source": [
    "class Solution:\n",
    "    def solveSudoku(self , board):\n",
    "        def is_valid(r,c,ch):\n",
    "            # check row\n",
    "            for i in range(9):\n",
    "                if board[r][i] == ch:\n",
    "                    return False\n",
    "            \n",
    "            # check col\n",
    "            for i in range(9):\n",
    "                if board[i][c] == ch:\n",
    "                    return False\n",
    "            \n",
    "            br , bc = (r//3) * 3 , (c//3) * 3\n",
    "            for i in range(br , br+3):\n",
    "                for j in range(bc , bc+3):\n",
    "                    if board[i][j] == ch:\n",
    "                        return False\n",
    "            return True \n",
    "                        \n",
    "        def backtrack():\n",
    "            for r in range(9):\n",
    "                for c in range(9):\n",
    "                    if board[r][c] == \".\":\n",
    "                        for ch in map(str , range(1,10)):\n",
    "                            if is_valid(r,c,ch):\n",
    "                                board[r][c] = ch \n",
    "                            if backtrack():\n",
    "                                return True \n",
    "                            board[r][c] = \".\"\n",
    "                        return False \n",
    "            return True \n",
    "        backtrack()\n",
    "\n"
   ]
  },
  {
   "cell_type": "code",
   "execution_count": 1,
   "id": "b89eaa62",
   "metadata": {},
   "outputs": [],
   "source": [
    "def skip_char(processed , unprocessed , target):\n",
    "    if not unprocessed:\n",
    "        return processed\n",
    "    # recursive condition\n",
    "    if unprocessed[0] == target:\n",
    "        return skip_char(processed , unprocessed[1:] , target)\n",
    "    else:\n",
    "        return skip_char(processed + unprocessed[0] , unprocessed[1:] , target)\n"
   ]
  },
  {
   "cell_type": "code",
   "execution_count": 2,
   "id": "a583bd88",
   "metadata": {},
   "outputs": [],
   "source": [
    "# skipping an entire word\n",
    "def skip_word(processed , unprocessed,target_word):\n",
    "    if not unprocessed:\n",
    "        return processed\n",
    "    if unprocessed.startswith(target_word):\n",
    "        return skip_word(processed , unprocessed[len(target_word):] , target_word)\n",
    "    else:\n",
    "        return skip_word(processed + unprocessed[0] , unprocessed[1:] , target_word)"
   ]
  },
  {
   "cell_type": "code",
   "execution_count": 3,
   "id": "65e73939",
   "metadata": {},
   "outputs": [],
   "source": [
    "def find_subsets(processed , unprocessed):\n",
    "    if not unprocessed:\n",
    "        return [processed]\n",
    "    current = unprocessed[0]\n",
    "    include = find_subsets(processed + [current] , unprocessed[1:])\n",
    "    exclude = find_subsets(processed , unprocessed[1:])\n",
    "    return include + exclude"
   ]
  },
  {
   "cell_type": "code",
   "execution_count": 5,
   "id": "0d92b7f3",
   "metadata": {},
   "outputs": [],
   "source": [
    "def dice_rolls(processed , target):\n",
    "    if target == 0:\n",
    "        print(f\"Valid Combination: {processed}\")\n",
    "        return 1\n",
    "    if target < 0:\n",
    "        return 0\n",
    "    count = 0\n",
    "    for dice in range(1,7):\n",
    "        count += dice_rolls(processed + str(dice) , target-dice)\n",
    "    return count \n",
    "\n"
   ]
  },
  {
   "cell_type": "code",
   "execution_count": 6,
   "id": "d7ca48d2",
   "metadata": {},
   "outputs": [],
   "source": [
    "# counting paths \n",
    "# processed --> steps we have taken and unprocessed--> remaining paths\n",
    "def count_paths(processed , row , col):\n",
    "    if row == 1 and col == 1:\n",
    "        print(processed)\n",
    "        return 1\n",
    "    count = 0\n",
    "    if row > 1:\n",
    "        count += count_paths(processed+\"U\" , row-1,col)\n",
    "    if col > 1:\n",
    "        count += count_paths(processed+\"L\" , row , col - 1)\n",
    "    return count "
   ]
  },
  {
   "cell_type": "code",
   "execution_count": 7,
   "id": "120028eb",
   "metadata": {},
   "outputs": [],
   "source": [
    "def count_paths_diag(processed , row , col):\n",
    "    if row == 1 and col == 1:\n",
    "        print(processed)\n",
    "        return 1\n",
    "    count = 0\n",
    "    if row > 1:\n",
    "        count += count_paths(processed+\"U\" , row-1,col)\n",
    "    if col > 1:\n",
    "        count += count_paths(processed+\"L\" , row , col - 1)\n",
    "    if row > 1 and col > 1:\n",
    "        count += count_paths_diag(processed + \"D\", row - 1, col - 1)\n",
    "    return count "
   ]
  },
  {
   "cell_type": "code",
   "execution_count": 8,
   "id": "c9a6cf78",
   "metadata": {},
   "outputs": [],
   "source": [
    "def count_paths_with_obstacles(processed, row, col, grid):\n",
    "    # Base Condition: If we reach the starting point (1,1)\n",
    "    if row == 1 and col == 1:\n",
    "        print(processed)\n",
    "        return 1\n",
    "\n",
    "    # If the current cell is an obstacle, stop recursion\n",
    "    if grid[row - 1][col - 1] == 1:  # Assuming '1' represents an obstacle\n",
    "        return 0\n",
    "\n",
    "    count = 0\n",
    "\n",
    "    # Recursive condition: Move upwards\n",
    "    if row > 1:\n",
    "        count += count_paths_with_obstacles(processed + \"U\", row - 1, col, grid)\n",
    "    \n",
    "    # Recursive condition: Move leftwards\n",
    "    if col > 1:\n",
    "        count += count_paths_with_obstacles(processed + \"L\", row, col - 1, grid)\n",
    "    \n",
    "    # Recursive condition: Move diagonally\n",
    "    if row > 1 and col > 1:\n",
    "        count += count_paths_with_obstacles(processed + \"D\", row - 1, col - 1, grid)\n",
    "    \n",
    "    return count"
   ]
  },
  {
   "cell_type": "code",
   "execution_count": null,
   "id": "7fba4e2f",
   "metadata": {},
   "outputs": [],
   "source": []
  }
 ],
 "metadata": {
  "kernelspec": {
   "display_name": "Python 3",
   "language": "python",
   "name": "python3"
  },
  "language_info": {
   "codemirror_mode": {
    "name": "ipython",
    "version": 3
   },
   "file_extension": ".py",
   "mimetype": "text/x-python",
   "name": "python",
   "nbconvert_exporter": "python",
   "pygments_lexer": "ipython3",
   "version": "3.12.6"
  }
 },
 "nbformat": 4,
 "nbformat_minor": 5
}
