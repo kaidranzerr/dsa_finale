{
 "cells": [
  {
   "cell_type": "code",
   "execution_count": 1,
   "id": "6b86c95a",
   "metadata": {},
   "outputs": [],
   "source": [
    "class StackArr:\n",
    "    def __init__(self):\n",
    "        self.stack = []\n",
    "    def push(self , x):\n",
    "        self.stack.append(x)\n",
    "    def pop(self):\n",
    "        if not self.isEmpty():\n",
    "            return self.stack.pop()\n",
    "        return None \n",
    "    def peek(self):\n",
    "        if not self.isEmpty():\n",
    "            return self.stack[-1]\n",
    "        return None \n",
    "    def isEmpty(self):\n",
    "        return len(self.stack) == 0\n",
    "    def size(self):\n",
    "        return len(self.stack)"
   ]
  },
  {
   "cell_type": "code",
   "execution_count": 2,
   "id": "f689abdd",
   "metadata": {},
   "outputs": [],
   "source": [
    "# stack using queue\n",
    "from collections import deque \n",
    "class StackUsingQueue:\n",
    "    def __init__(self):\n",
    "        self.q = deque()\n",
    "    def push(self , x):\n",
    "        # step 1. add element at back\n",
    "        self.q.append(x)\n",
    "        # step 2. rotate prev elements behind new one\n",
    "        for _ in range(len(self.q)-1):\n",
    "            self.q.append(self.q.popleft())\n",
    "\n",
    "    def pop(self):\n",
    "        if not self.isEmpty():\n",
    "            return self.q.popleft()\n",
    "        return None \n",
    "    \n",
    "    def top(self):\n",
    "        if not self.isEmpty():\n",
    "            return self.q[0]\n",
    "        return None \n",
    "\n",
    "    def isEmpty(self):\n",
    "        return len(self.q) == 0\n"
   ]
  },
  {
   "cell_type": "code",
   "execution_count": 3,
   "id": "606b5bc0",
   "metadata": {},
   "outputs": [],
   "source": [
    "# queue using stacks --> s1 for push || s2 for pop \n",
    "class QueueUsingStack:\n",
    "    def __init__(self):\n",
    "        self.s1 = []\n",
    "        self.s2 = []\n",
    "    def enqueue(self , x):\n",
    "        self.s1.append(x)\n",
    "    \n",
    "    def dequeue(self):\n",
    "        # if s2 empty transfer from s1 \n",
    "        if not self.s2:\n",
    "            while self.s1:\n",
    "                self.s2.append(self.s1.pop())\n",
    "        if self.s2:\n",
    "            return self.s2[-1]\n",
    "        return None \n",
    "    def front(self):\n",
    "        if not self.s2:\n",
    "            while self.s1:\n",
    "                self.s2.append(self.s1.pop())\n",
    "        if self.s2:\n",
    "            return self.s2[-1]\n",
    "        return None \n",
    "    def isEmpty(self):\n",
    "        return not self.s1 or not self.s2"
   ]
  },
  {
   "cell_type": "code",
   "execution_count": 4,
   "id": "7e10b0c1",
   "metadata": {},
   "outputs": [],
   "source": [
    "def isBalanced(expre):\n",
    "    stack = []\n",
    "    mapping = {')':'(', '}':'{', ']':'['}\n",
    "    # push opening brackets into stack when a closing bracket\n",
    "    # comes check if the top of stack has a matching pair\n",
    "    # at the end stack should be empty \n",
    "    for char in expre:\n",
    "        if char in mapping.values(): #opening brackets\n",
    "            stack.append(char)\n",
    "        elif char in mapping: # closing bracket\n",
    "            if not stack or stack[-1] != mapping[char]:\n",
    "                return False \n",
    "            stack.pop()\n",
    "    return len(stack) == 0\n"
   ]
  },
  {
   "cell_type": "code",
   "execution_count": 5,
   "id": "dc254efb",
   "metadata": {},
   "outputs": [],
   "source": [
    "# minimum stack \n",
    "class MinStack:\n",
    "    def __init__(self):\n",
    "        self.stack = []\n",
    "        self.minStack = []\n",
    "    def push(self , x):\n",
    "        self.stack.append(x)\n",
    "        if not self.minStack:\n",
    "            self.minStack.append(x)\n",
    "        else:\n",
    "            self.minStack.append(min(x , self.minStack[-1]))\n",
    "    def pop(self):\n",
    "        if self.stack:\n",
    "            self.minStack.pop()\n",
    "            return self.stack.pop()\n",
    "        return None \n",
    "    def top(self):\n",
    "        return self.stack[-1] if self.stack else None \n",
    "    def getMin(self):\n",
    "        return self.minStack[-1] if self.minStack else None \n",
    "    "
   ]
  },
  {
   "cell_type": "code",
   "execution_count": null,
   "id": "27aacca6",
   "metadata": {},
   "outputs": [],
   "source": []
  }
 ],
 "metadata": {
  "kernelspec": {
   "display_name": "base",
   "language": "python",
   "name": "python3"
  },
  "language_info": {
   "codemirror_mode": {
    "name": "ipython",
    "version": 3
   },
   "file_extension": ".py",
   "mimetype": "text/x-python",
   "name": "python",
   "nbconvert_exporter": "python",
   "pygments_lexer": "ipython3",
   "version": "3.12.7"
  }
 },
 "nbformat": 4,
 "nbformat_minor": 5
}
