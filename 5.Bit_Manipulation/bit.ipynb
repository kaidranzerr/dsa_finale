{
 "cells": [
  {
   "cell_type": "code",
   "execution_count": null,
   "id": "d65f57fd",
   "metadata": {},
   "outputs": [
    {
     "name": "stdout",
     "output_type": "stream",
     "text": [
      "8\n",
      "15\n"
     ]
    }
   ],
   "source": [
    "# OFF --> 0 || ON --> 1\n",
    "# the system of 0 and 1 is called binary and a single 0 or 1 is called a bit \n",
    "\n",
    "# Computers use binary (base-2). They only have two digits (0 and 1). The \"place values\" are not powers of 10, but powers of 2.\n",
    "\n",
    "# AND operator (&) --> meet both of the conditions || result bit is 1 only if both input bits are 1 \n",
    "# perfect for checking if a specific bit is ON\n",
    "print(13&10) # 1101 & 1010 (1000)\n",
    "\n",
    "# OR (|) just 1 needs to be true (OR) is perfect for setting a specific bit to ON\n",
    "print(13|10)"
   ]
  },
  {
   "cell_type": "code",
   "execution_count": 4,
   "id": "f2a6daee",
   "metadata": {},
   "outputs": [
    {
     "name": "stdout",
     "output_type": "stream",
     "text": [
      "7\n"
     ]
    }
   ],
   "source": [
    "# XOR --> Think of an exclusive choice. You can have cake OR ice cream, but not both. It's one or the other, exclusively. The name XOR stands for \"eXclusive OR\".\n",
    "# The result bit is 1 only if the input bits are different. (^)\n",
    "print(13^10)"
   ]
  },
  {
   "cell_type": "code",
   "execution_count": null,
   "id": "d06a109e",
   "metadata": {},
   "outputs": [
    {
     "name": "stdout",
     "output_type": "stream",
     "text": [
      "26624\n"
     ]
    }
   ],
   "source": [
    "# NOT operator (-)  It flips every single bit. 0 becomes 1, and 1 becomes 0.\n",
    "# NOT is often used with AND to create a mask for clearing a specific bit (turning a 1 into a 0).\n",
    "# The left shift operator --> <<  It shifts all bits to the left by a specified number of places and fills the empty spots on the right with 0s.\n",
    "print(13 << 11)\n",
    "# Extremely fast multiplication by powers of 2.\n"
   ]
  },
  {
   "cell_type": "code",
   "execution_count": 3,
   "id": "d185e201",
   "metadata": {},
   "outputs": [
    {
     "name": "stdout",
     "output_type": "stream",
     "text": [
      "6\n"
     ]
    }
   ],
   "source": [
    "# right shift --> >>  It shifts all bits to the right by a specified number of places. The rightmost bits are discarded.\n",
    "print(13>>1)"
   ]
  },
  {
   "cell_type": "code",
   "execution_count": 1,
   "id": "aefe2b53",
   "metadata": {},
   "outputs": [],
   "source": [
    "# part 2 \n",
    "# most important concept --> the mask \n",
    "# A bitmask is a digital stencil. It's a pattern of bits we create to target a single bit within a number, leaving the other bits completely untouched.\n"
   ]
  },
  {
   "cell_type": "code",
   "execution_count": 2,
   "id": "61ea686a",
   "metadata": {},
   "outputs": [
    {
     "name": "stdout",
     "output_type": "stream",
     "text": [
      "Is the 2nd bit of 21 set? True\n",
      "Is the 1st bit of 21 set? False\n"
     ]
    }
   ],
   "source": [
    "# check if the kth bit is set --> is the switch ON\n",
    "# use a mask --> with that kth bit ON and then use the & operator\n",
    "def is_kth_bit_set(n , k):\n",
    "    mask = 1 << k\n",
    "    return (n& mask) != 0\n",
    "print(f\"Is the 2nd bit of 21 set? {is_kth_bit_set(21, 2)}\") # True\n",
    "print(f\"Is the 1st bit of 21 set? {is_kth_bit_set(21, 1)}\") # False"
   ]
  },
  {
   "cell_type": "code",
   "execution_count": 3,
   "id": "115df3cd",
   "metadata": {},
   "outputs": [
    {
     "name": "stdout",
     "output_type": "stream",
     "text": [
      "Original number: 21. After setting 1st bit: 23\n"
     ]
    }
   ],
   "source": [
    "def set_kth_bit(n , k):\n",
    "    mask = 1 << k\n",
    "    return n | mask \n",
    "print(f\"Original number: 21. After setting 1st bit: {set_kth_bit(21, 1)}\")"
   ]
  },
  {
   "cell_type": "code",
   "execution_count": 4,
   "id": "a112f8a5",
   "metadata": {},
   "outputs": [],
   "source": [
    "# OFF bit to ON & ON bit to OFF\n",
    "def toggle_kth_bit(n, k):\n",
    "    \"\"\"Toggles (flips) the k-th bit of n.\"\"\"\n",
    "    mask = 1 << k\n",
    "    return n ^ mask\n"
   ]
  },
  {
   "cell_type": "code",
   "execution_count": 5,
   "id": "d86082dd",
   "metadata": {},
   "outputs": [
    {
     "name": "stdout",
     "output_type": "stream",
     "text": [
      "Number of set bits in 21 (10101) is: 3\n"
     ]
    }
   ],
   "source": [
    "# The Pro Move (Brian Kernighan's Algorithm):\n",
    "def count_set_bits(n):\n",
    "    count = 0\n",
    "    while n > 0:\n",
    "        n = n & (n-1)\n",
    "        count += 1\n",
    "    return count \n",
    "print(f\"Number of set bits in 21 (10101) is: {count_set_bits(21)}\") # 3"
   ]
  },
  {
   "cell_type": "code",
   "execution_count": 6,
   "id": "621e97dc",
   "metadata": {},
   "outputs": [],
   "source": [
    "# 4 magical properties of XOR \n",
    "# the cancellation property --> A ^ A = 0\n",
    "# 2. The Identity Property: A ^ 0 = A\n",
    "# 3 and 4. The \"Order Doesn't Matter\" Properties --> commutative & associative\n",
    "\n"
   ]
  },
  {
   "cell_type": "code",
   "execution_count": 7,
   "id": "b537bb35",
   "metadata": {},
   "outputs": [
    {
     "name": "stdout",
     "output_type": "stream",
     "text": [
      "The unique number is: 5\n"
     ]
    }
   ],
   "source": [
    "def find_single_number(nums):\n",
    "    \"\"\"\n",
    "    Finds the unique element in an array where all other elements appear twice.\n",
    "    \"\"\"\n",
    "    # Start with the identity element, 0.\n",
    "    unique_num = 0\n",
    "    # XOR every number in the list.\n",
    "    for num in nums:\n",
    "        unique_num ^= num\n",
    "    return unique_num\n",
    "\n",
    "my_array = [4, 1, 5, 1, 4]\n",
    "print(f\"The unique number is: {find_single_number(my_array)}\") # Output: The unique number is: 5"
   ]
  },
  {
   "cell_type": "code",
   "execution_count": 1,
   "id": "026a6564",
   "metadata": {},
   "outputs": [],
   "source": [
    "# number of 1 bits (Hamming weight)\n",
    "# clear rightmost set bit trick --> (Brian Kernighan's algo)\n",
    "def hammingWeight(n):\n",
    "    count = 0\n",
    "    while n > 0:\n",
    "        # turns rightmost 1 bit into 0\n",
    "        n = n & (n-1)\n",
    "        count += 1\n",
    "    return count \n"
   ]
  },
  {
   "cell_type": "code",
   "execution_count": 2,
   "id": "94a0e73e",
   "metadata": {},
   "outputs": [],
   "source": [
    "# int n return true if it is a power of 2 \n",
    "def isPower2(n):\n",
    "    if n <= 0:\n",
    "        return False \n",
    "    return (n & (n-1)) == 0"
   ]
  },
  {
   "cell_type": "code",
   "execution_count": 3,
   "id": "a511f95a",
   "metadata": {},
   "outputs": [
    {
     "name": "stdout",
     "output_type": "stream",
     "text": [
      "2\n"
     ]
    }
   ],
   "source": [
    "def missingNum(nums):\n",
    "    # XOR everything\n",
    "    n = len(nums)\n",
    "    missing = n \n",
    "    for i in range(n):\n",
    "        missing ^= i ^ nums[i]\n",
    "    return missing \n",
    "print(missingNum([3, 0, 1]))"
   ]
  },
  {
   "cell_type": "code",
   "execution_count": null,
   "id": "525258c0",
   "metadata": {},
   "outputs": [],
   "source": []
  }
 ],
 "metadata": {
  "kernelspec": {
   "display_name": "Python 3",
   "language": "python",
   "name": "python3"
  },
  "language_info": {
   "codemirror_mode": {
    "name": "ipython",
    "version": 3
   },
   "file_extension": ".py",
   "mimetype": "text/x-python",
   "name": "python",
   "nbconvert_exporter": "python",
   "pygments_lexer": "ipython3",
   "version": "3.12.6"
  }
 },
 "nbformat": 4,
 "nbformat_minor": 5
}
