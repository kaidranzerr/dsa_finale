{
 "cells": [
  {
   "cell_type": "code",
   "execution_count": null,
   "id": "d65f57fd",
   "metadata": {},
   "outputs": [
    {
     "name": "stdout",
     "output_type": "stream",
     "text": [
      "8\n",
      "15\n"
     ]
    }
   ],
   "source": [
    "# OFF --> 0 || ON --> 1\n",
    "# the system of 0 and 1 is called binary and a single 0 or 1 is called a bit \n",
    "\n",
    "# Computers use binary (base-2). They only have two digits (0 and 1). The \"place values\" are not powers of 10, but powers of 2.\n",
    "\n",
    "# AND operator (&) --> meet both of the conditions || result bit is 1 only if both input bits are 1 \n",
    "# perfect for checking if a specific bit is ON\n",
    "print(13&10) # 1101 & 1010 (1000)\n",
    "\n",
    "# OR (|) just 1 needs to be true (OR) is perfect for setting a specific bit to ON\n",
    "print(13|10)"
   ]
  },
  {
   "cell_type": "code",
   "execution_count": 4,
   "id": "f2a6daee",
   "metadata": {},
   "outputs": [
    {
     "name": "stdout",
     "output_type": "stream",
     "text": [
      "7\n"
     ]
    }
   ],
   "source": [
    "# XOR --> Think of an exclusive choice. You can have cake OR ice cream, but not both. It's one or the other, exclusively. The name XOR stands for \"eXclusive OR\".\n",
    "# The result bit is 1 only if the input bits are different. (^)\n",
    "print(13^10)"
   ]
  },
  {
   "cell_type": "code",
   "execution_count": null,
   "id": "d06a109e",
   "metadata": {},
   "outputs": [
    {
     "name": "stdout",
     "output_type": "stream",
     "text": [
      "26624\n"
     ]
    }
   ],
   "source": [
    "# NOT operator (-)  It flips every single bit. 0 becomes 1, and 1 becomes 0.\n",
    "# NOT is often used with AND to create a mask for clearing a specific bit (turning a 1 into a 0).\n",
    "# The left shift operator --> <<  It shifts all bits to the left by a specified number of places and fills the empty spots on the right with 0s.\n",
    "print(13 << 11)\n",
    "# Extremely fast multiplication by powers of 2.\n"
   ]
  },
  {
   "cell_type": "code",
   "execution_count": 3,
   "id": "d185e201",
   "metadata": {},
   "outputs": [
    {
     "name": "stdout",
     "output_type": "stream",
     "text": [
      "6\n"
     ]
    }
   ],
   "source": [
    "# right shift --> >>  It shifts all bits to the right by a specified number of places. The rightmost bits are discarded.\n",
    "print(13>>1)"
   ]
  },
  {
   "cell_type": "code",
   "execution_count": 1,
   "id": "aefe2b53",
   "metadata": {},
   "outputs": [],
   "source": [
    "# part 2 \n",
    "# most important concept --> the mask \n",
    "# A bitmask is a digital stencil. It's a pattern of bits we create to target a single bit within a number, leaving the other bits completely untouched.\n"
   ]
  },
  {
   "cell_type": "code",
   "execution_count": 2,
   "id": "61ea686a",
   "metadata": {},
   "outputs": [
    {
     "name": "stdout",
     "output_type": "stream",
     "text": [
      "Is the 2nd bit of 21 set? True\n",
      "Is the 1st bit of 21 set? False\n"
     ]
    }
   ],
   "source": [
    "# check if the kth bit is set --> is the switch ON\n",
    "# use a mask --> with that kth bit ON and then use the & operator\n",
    "def is_kth_bit_set(n , k):\n",
    "    mask = 1 << k\n",
    "    return (n& mask) != 0\n",
    "print(f\"Is the 2nd bit of 21 set? {is_kth_bit_set(21, 2)}\") # True\n",
    "print(f\"Is the 1st bit of 21 set? {is_kth_bit_set(21, 1)}\") # False"
   ]
  },
  {
   "cell_type": "code",
   "execution_count": 3,
   "id": "115df3cd",
   "metadata": {},
   "outputs": [
    {
     "name": "stdout",
     "output_type": "stream",
     "text": [
      "Original number: 21. After setting 1st bit: 23\n"
     ]
    }
   ],
   "source": [
    "def set_kth_bit(n , k):\n",
    "    mask = 1 << k\n",
    "    return n | mask \n",
    "print(f\"Original number: 21. After setting 1st bit: {set_kth_bit(21, 1)}\")"
   ]
  },
  {
   "cell_type": "code",
   "execution_count": null,
   "id": "a112f8a5",
   "metadata": {},
   "outputs": [],
   "source": []
  }
 ],
 "metadata": {
  "kernelspec": {
   "display_name": "Python 3",
   "language": "python",
   "name": "python3"
  },
  "language_info": {
   "codemirror_mode": {
    "name": "ipython",
    "version": 3
   },
   "file_extension": ".py",
   "mimetype": "text/x-python",
   "name": "python",
   "nbconvert_exporter": "python",
   "pygments_lexer": "ipython3",
   "version": "3.12.6"
  }
 },
 "nbformat": 4,
 "nbformat_minor": 5
}
